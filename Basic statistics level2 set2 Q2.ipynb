{
 "cells": [
  {
   "cell_type": "markdown",
   "id": "7b6503e1",
   "metadata": {},
   "source": [
    "### 2.\tThe current age (in years) of 400 clerical employees at an insurance claims processing center is normally distributed with mean  = 38 and Standard deviation  =6. For each statement below, please specify True/False. If false, briefly explain why.\n",
    "### A.\tMore employees at the processing center are older than 44 than between 38 and 44.\n",
    "### B.\tA training program for employees under the age of 30 at the center would be expected to attract about 36 employees.\n"
   ]
  },
  {
   "cell_type": "code",
   "execution_count": 1,
   "id": "7d99a8ec",
   "metadata": {},
   "outputs": [],
   "source": [
    "### importing libraries\n",
    "\n",
    "from scipy import stats\n",
    "from scipy.stats import norm"
   ]
  },
  {
   "cell_type": "code",
   "execution_count": 2,
   "id": "c5716102",
   "metadata": {},
   "outputs": [],
   "source": [
    "### in this question mean is 38, standard deviation = 6 and to calculate\n",
    "###  z score can be calculated using formula Z = x-μ/σ\n"
   ]
  },
  {
   "cell_type": "code",
   "execution_count": 3,
   "id": "b4d4895a",
   "metadata": {},
   "outputs": [
    {
     "data": {
      "text/plain": [
       "1.0"
      ]
     },
     "execution_count": 3,
     "metadata": {},
     "output_type": "execute_result"
    }
   ],
   "source": [
    "### For x>44\n",
    "\n",
    "z=(44-38)/6\n",
    "z"
   ]
  },
  {
   "cell_type": "code",
   "execution_count": 4,
   "id": "a0845c7f",
   "metadata": {},
   "outputs": [
    {
     "data": {
      "text/plain": [
       "0.15865525393145707"
      ]
     },
     "execution_count": 4,
     "metadata": {},
     "output_type": "execute_result"
    }
   ],
   "source": [
    "### Employees older than 44 years of age ,p(x>44)\n",
    "1-stats.norm.cdf(abs(z))"
   ]
  },
  {
   "cell_type": "code",
   "execution_count": 6,
   "id": "2008662d",
   "metadata": {},
   "outputs": [
    {
     "data": {
      "text/plain": [
       "0.3413447460685429"
      ]
     },
     "execution_count": 6,
     "metadata": {},
     "output_type": "execute_result"
    }
   ],
   "source": [
    "### Employees between 38 and 44 years of age using formula stats.norm.cdf(44, loc=38, scale=6)\n",
    "\n",
    "stats.norm.cdf(44, 38,6)-stats.norm.cdf(38,38,6)"
   ]
  },
  {
   "cell_type": "code",
   "execution_count": 7,
   "id": "9f96f355",
   "metadata": {},
   "outputs": [],
   "source": [
    "###  A.\tMore employees at the processing center are older than 44 than between 38 and 44. is False as value calculated in\n",
    "###  line 4 and line 6 shows that employees between 38 and 44 years of age is more.\n"
   ]
  },
  {
   "cell_type": "code",
   "execution_count": 8,
   "id": "29e457bb",
   "metadata": {},
   "outputs": [
    {
     "data": {
      "text/plain": [
       "0.09121121972586788"
      ]
     },
     "execution_count": 8,
     "metadata": {},
     "output_type": "execute_result"
    }
   ],
   "source": [
    "### Employees under than age of 30 years, P(x<30)\n",
    "stats.norm.cdf(30, 38,6)"
   ]
  },
  {
   "cell_type": "code",
   "execution_count": 9,
   "id": "3b357b1b",
   "metadata": {},
   "outputs": [
    {
     "data": {
      "text/plain": [
       "36.484487890347154"
      ]
     },
     "execution_count": 9,
     "metadata": {},
     "output_type": "execute_result"
    }
   ],
   "source": [
    "### Number of employees attending training under the age of 30 years\n",
    "400 * stats.norm.cdf(30,38,6)"
   ]
  },
  {
   "cell_type": "code",
   "execution_count": null,
   "id": "d04dba19",
   "metadata": {},
   "outputs": [],
   "source": [
    "### B.\tA training program for employees under the age of 30 at the center would be expected to attract about 36 employees.\n",
    "### The above statement is true as per the calculation in line number 9 and output 9 is 36.48."
   ]
  }
 ],
 "metadata": {
  "kernelspec": {
   "display_name": "Python 3",
   "language": "python",
   "name": "python3"
  },
  "language_info": {
   "codemirror_mode": {
    "name": "ipython",
    "version": 3
   },
   "file_extension": ".py",
   "mimetype": "text/x-python",
   "name": "python",
   "nbconvert_exporter": "python",
   "pygments_lexer": "ipython3",
   "version": "3.8.8"
  }
 },
 "nbformat": 4,
 "nbformat_minor": 5
}
